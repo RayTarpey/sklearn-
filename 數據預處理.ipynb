{
 "cells": [
  {
   "cell_type": "code",
   "execution_count": 1,
   "id": "fde9941e",
   "metadata": {},
   "outputs": [
    {
     "data": {
      "text/html": [
       "<div>\n",
       "<style scoped>\n",
       "    .dataframe tbody tr th:only-of-type {\n",
       "        vertical-align: middle;\n",
       "    }\n",
       "\n",
       "    .dataframe tbody tr th {\n",
       "        vertical-align: top;\n",
       "    }\n",
       "\n",
       "    .dataframe thead th {\n",
       "        text-align: right;\n",
       "    }\n",
       "</style>\n",
       "<table border=\"1\" class=\"dataframe\">\n",
       "  <thead>\n",
       "    <tr style=\"text-align: right;\">\n",
       "      <th></th>\n",
       "      <th>A</th>\n",
       "      <th>B</th>\n",
       "      <th>C</th>\n",
       "      <th>D</th>\n",
       "    </tr>\n",
       "  </thead>\n",
       "  <tbody>\n",
       "    <tr>\n",
       "      <th>0</th>\n",
       "      <td>1.0</td>\n",
       "      <td>2.0</td>\n",
       "      <td>3.0</td>\n",
       "      <td>4.0</td>\n",
       "    </tr>\n",
       "    <tr>\n",
       "      <th>1</th>\n",
       "      <td>5.0</td>\n",
       "      <td>6.0</td>\n",
       "      <td>NaN</td>\n",
       "      <td>8.0</td>\n",
       "    </tr>\n",
       "    <tr>\n",
       "      <th>2</th>\n",
       "      <td>0.0</td>\n",
       "      <td>11.0</td>\n",
       "      <td>12.0</td>\n",
       "      <td>NaN</td>\n",
       "    </tr>\n",
       "  </tbody>\n",
       "</table>\n",
       "</div>"
      ],
      "text/plain": [
       "     A     B     C    D\n",
       "0  1.0   2.0   3.0  4.0\n",
       "1  5.0   6.0   NaN  8.0\n",
       "2  0.0  11.0  12.0  NaN"
      ]
     },
     "execution_count": 1,
     "metadata": {},
     "output_type": "execute_result"
    }
   ],
   "source": [
    "import pandas as pd\n",
    "import numpy as np\n",
    "import sklearn\n",
    "from io import StringIO\n",
    "csv_data = '''A,B,C,D\n",
    "1.0,2.0,3.0,4.0\n",
    "5.0,6.0,,8.0\n",
    "0.0,11.0,12.0,'''\n",
    "df = pd.read_csv(StringIO(csv_data))\n",
    "df"
   ]
  },
  {
   "cell_type": "code",
   "execution_count": 2,
   "id": "bd3c6b5c",
   "metadata": {},
   "outputs": [
    {
     "data": {
      "text/plain": [
       "A    0\n",
       "B    0\n",
       "C    1\n",
       "D    1\n",
       "dtype: int64"
      ]
     },
     "execution_count": 2,
     "metadata": {},
     "output_type": "execute_result"
    }
   ],
   "source": [
    "df.isnull().sum()"
   ]
  },
  {
   "cell_type": "code",
   "execution_count": 3,
   "id": "cf618a4a",
   "metadata": {},
   "outputs": [
    {
     "data": {
      "text/plain": [
       "array([[ 1.,  2.,  3.,  4.],\n",
       "       [ 5.,  6., nan,  8.],\n",
       "       [ 0., 11., 12., nan]])"
      ]
     },
     "execution_count": 3,
     "metadata": {},
     "output_type": "execute_result"
    }
   ],
   "source": [
    "df.values"
   ]
  },
  {
   "cell_type": "code",
   "execution_count": 4,
   "id": "c88e6319",
   "metadata": {},
   "outputs": [
    {
     "data": {
      "text/html": [
       "<div>\n",
       "<style scoped>\n",
       "    .dataframe tbody tr th:only-of-type {\n",
       "        vertical-align: middle;\n",
       "    }\n",
       "\n",
       "    .dataframe tbody tr th {\n",
       "        vertical-align: top;\n",
       "    }\n",
       "\n",
       "    .dataframe thead th {\n",
       "        text-align: right;\n",
       "    }\n",
       "</style>\n",
       "<table border=\"1\" class=\"dataframe\">\n",
       "  <thead>\n",
       "    <tr style=\"text-align: right;\">\n",
       "      <th></th>\n",
       "      <th>A</th>\n",
       "      <th>B</th>\n",
       "      <th>C</th>\n",
       "      <th>D</th>\n",
       "    </tr>\n",
       "  </thead>\n",
       "  <tbody>\n",
       "    <tr>\n",
       "      <th>0</th>\n",
       "      <td>1.0</td>\n",
       "      <td>2.0</td>\n",
       "      <td>3.0</td>\n",
       "      <td>4.0</td>\n",
       "    </tr>\n",
       "  </tbody>\n",
       "</table>\n",
       "</div>"
      ],
      "text/plain": [
       "     A    B    C    D\n",
       "0  1.0  2.0  3.0  4.0"
      ]
     },
     "execution_count": 4,
     "metadata": {},
     "output_type": "execute_result"
    }
   ],
   "source": [
    "df.dropna() #刪掉有NAN的列"
   ]
  },
  {
   "cell_type": "code",
   "execution_count": 5,
   "id": "0c8bd7f7",
   "metadata": {},
   "outputs": [
    {
     "data": {
      "text/html": [
       "<div>\n",
       "<style scoped>\n",
       "    .dataframe tbody tr th:only-of-type {\n",
       "        vertical-align: middle;\n",
       "    }\n",
       "\n",
       "    .dataframe tbody tr th {\n",
       "        vertical-align: top;\n",
       "    }\n",
       "\n",
       "    .dataframe thead th {\n",
       "        text-align: right;\n",
       "    }\n",
       "</style>\n",
       "<table border=\"1\" class=\"dataframe\">\n",
       "  <thead>\n",
       "    <tr style=\"text-align: right;\">\n",
       "      <th></th>\n",
       "      <th>A</th>\n",
       "      <th>B</th>\n",
       "    </tr>\n",
       "  </thead>\n",
       "  <tbody>\n",
       "    <tr>\n",
       "      <th>0</th>\n",
       "      <td>1.0</td>\n",
       "      <td>2.0</td>\n",
       "    </tr>\n",
       "    <tr>\n",
       "      <th>1</th>\n",
       "      <td>5.0</td>\n",
       "      <td>6.0</td>\n",
       "    </tr>\n",
       "    <tr>\n",
       "      <th>2</th>\n",
       "      <td>0.0</td>\n",
       "      <td>11.0</td>\n",
       "    </tr>\n",
       "  </tbody>\n",
       "</table>\n",
       "</div>"
      ],
      "text/plain": [
       "     A     B\n",
       "0  1.0   2.0\n",
       "1  5.0   6.0\n",
       "2  0.0  11.0"
      ]
     },
     "execution_count": 5,
     "metadata": {},
     "output_type": "execute_result"
    }
   ],
   "source": [
    "df.dropna(axis=1) #刪掉有NAN的行"
   ]
  },
  {
   "cell_type": "code",
   "execution_count": 6,
   "id": "ee0f6e58",
   "metadata": {},
   "outputs": [
    {
     "name": "stderr",
     "output_type": "stream",
     "text": [
      "C:\\Users\\Ray\\anaconda3\\envs\\test\\lib\\site-packages\\sklearn\\base.py:450: UserWarning: X does not have valid feature names, but SimpleImputer was fitted with feature names\n",
      "  warnings.warn(\n"
     ]
    },
    {
     "data": {
      "text/plain": [
       "array([[ 1. ,  2. ,  3. ,  4. ],\n",
       "       [ 5. ,  6. ,  7.5,  8. ],\n",
       "       [ 0. , 11. , 12. ,  6. ]])"
      ]
     },
     "execution_count": 6,
     "metadata": {},
     "output_type": "execute_result"
    }
   ],
   "source": [
    "from sklearn.impute import SimpleImputer #插補技術，語法改成SimpleImputer\n",
    "imr = SimpleImputer(missing_values=np.nan, strategy='mean')#將NAN值填補為行平均\n",
    "imr = imr.fit(df)\n",
    "imputed_data = imr.transform(df.values)\n",
    "imputed_data"
   ]
  },
  {
   "cell_type": "code",
   "execution_count": 7,
   "id": "94c21e4d",
   "metadata": {},
   "outputs": [
    {
     "data": {
      "text/html": [
       "<div>\n",
       "<style scoped>\n",
       "    .dataframe tbody tr th:only-of-type {\n",
       "        vertical-align: middle;\n",
       "    }\n",
       "\n",
       "    .dataframe tbody tr th {\n",
       "        vertical-align: top;\n",
       "    }\n",
       "\n",
       "    .dataframe thead th {\n",
       "        text-align: right;\n",
       "    }\n",
       "</style>\n",
       "<table border=\"1\" class=\"dataframe\">\n",
       "  <thead>\n",
       "    <tr style=\"text-align: right;\">\n",
       "      <th></th>\n",
       "      <th>color</th>\n",
       "      <th>size</th>\n",
       "      <th>price</th>\n",
       "      <th>classlabel</th>\n",
       "    </tr>\n",
       "  </thead>\n",
       "  <tbody>\n",
       "    <tr>\n",
       "      <th>0</th>\n",
       "      <td>green</td>\n",
       "      <td>M</td>\n",
       "      <td>10.1</td>\n",
       "      <td>class1</td>\n",
       "    </tr>\n",
       "    <tr>\n",
       "      <th>1</th>\n",
       "      <td>red</td>\n",
       "      <td>L</td>\n",
       "      <td>13.5</td>\n",
       "      <td>class2</td>\n",
       "    </tr>\n",
       "    <tr>\n",
       "      <th>2</th>\n",
       "      <td>blue</td>\n",
       "      <td>XL</td>\n",
       "      <td>15.3</td>\n",
       "      <td>class1</td>\n",
       "    </tr>\n",
       "  </tbody>\n",
       "</table>\n",
       "</div>"
      ],
      "text/plain": [
       "   color size  price classlabel\n",
       "0  green    M   10.1     class1\n",
       "1    red    L   13.5     class2\n",
       "2   blue   XL   15.3     class1"
      ]
     },
     "execution_count": 7,
     "metadata": {},
     "output_type": "execute_result"
    }
   ],
   "source": [
    "import pandas as pd #建立數據框(DataFrame)\n",
    "df = pd.DataFrame([\n",
    "            ['green', 'M' , 10.1 , 'class1'],\n",
    "\t\t\t['red'  , 'L' , 13.5 , 'class2'],\n",
    "\t\t\t['blue' , 'XL', 15.3 , 'class1']])\n",
    "df.columns = ['color', 'size', 'price', 'classlabel'] #建立欄位名稱，color為名目特徵，size為有序特徵\n",
    "df"
   ]
  },
  {
   "cell_type": "code",
   "execution_count": 8,
   "id": "31c0390a",
   "metadata": {},
   "outputs": [
    {
     "data": {
      "text/html": [
       "<div>\n",
       "<style scoped>\n",
       "    .dataframe tbody tr th:only-of-type {\n",
       "        vertical-align: middle;\n",
       "    }\n",
       "\n",
       "    .dataframe tbody tr th {\n",
       "        vertical-align: top;\n",
       "    }\n",
       "\n",
       "    .dataframe thead th {\n",
       "        text-align: right;\n",
       "    }\n",
       "</style>\n",
       "<table border=\"1\" class=\"dataframe\">\n",
       "  <thead>\n",
       "    <tr style=\"text-align: right;\">\n",
       "      <th></th>\n",
       "      <th>color</th>\n",
       "      <th>size</th>\n",
       "      <th>price</th>\n",
       "      <th>classlabel</th>\n",
       "    </tr>\n",
       "  </thead>\n",
       "  <tbody>\n",
       "    <tr>\n",
       "      <th>0</th>\n",
       "      <td>green</td>\n",
       "      <td>1</td>\n",
       "      <td>10.1</td>\n",
       "      <td>class1</td>\n",
       "    </tr>\n",
       "    <tr>\n",
       "      <th>1</th>\n",
       "      <td>red</td>\n",
       "      <td>2</td>\n",
       "      <td>13.5</td>\n",
       "      <td>class2</td>\n",
       "    </tr>\n",
       "    <tr>\n",
       "      <th>2</th>\n",
       "      <td>blue</td>\n",
       "      <td>3</td>\n",
       "      <td>15.3</td>\n",
       "      <td>class1</td>\n",
       "    </tr>\n",
       "  </tbody>\n",
       "</table>\n",
       "</div>"
      ],
      "text/plain": [
       "   color  size  price classlabel\n",
       "0  green     1   10.1     class1\n",
       "1    red     2   13.5     class2\n",
       "2   blue     3   15.3     class1"
      ]
     },
     "execution_count": 8,
     "metadata": {},
     "output_type": "execute_result"
    }
   ],
   "source": [
    "size_mapping = {\n",
    "                'XL':3,\n",
    "\t\t\t\t'L':2,\n",
    "                'M':1}\n",
    "df['size'] = df['size'].map(size_mapping) #將字串轉為整數數值\n",
    "df"
   ]
  },
  {
   "cell_type": "code",
   "execution_count": 9,
   "id": "c0b8c6f8",
   "metadata": {},
   "outputs": [
    {
     "data": {
      "text/html": [
       "<div>\n",
       "<style scoped>\n",
       "    .dataframe tbody tr th:only-of-type {\n",
       "        vertical-align: middle;\n",
       "    }\n",
       "\n",
       "    .dataframe tbody tr th {\n",
       "        vertical-align: top;\n",
       "    }\n",
       "\n",
       "    .dataframe thead th {\n",
       "        text-align: right;\n",
       "    }\n",
       "</style>\n",
       "<table border=\"1\" class=\"dataframe\">\n",
       "  <thead>\n",
       "    <tr style=\"text-align: right;\">\n",
       "      <th></th>\n",
       "      <th>color</th>\n",
       "      <th>size</th>\n",
       "      <th>price</th>\n",
       "      <th>classlabel</th>\n",
       "    </tr>\n",
       "  </thead>\n",
       "  <tbody>\n",
       "    <tr>\n",
       "      <th>0</th>\n",
       "      <td>green</td>\n",
       "      <td>1</td>\n",
       "      <td>10.1</td>\n",
       "      <td>0</td>\n",
       "    </tr>\n",
       "    <tr>\n",
       "      <th>1</th>\n",
       "      <td>red</td>\n",
       "      <td>2</td>\n",
       "      <td>13.5</td>\n",
       "      <td>1</td>\n",
       "    </tr>\n",
       "    <tr>\n",
       "      <th>2</th>\n",
       "      <td>blue</td>\n",
       "      <td>3</td>\n",
       "      <td>15.3</td>\n",
       "      <td>0</td>\n",
       "    </tr>\n",
       "  </tbody>\n",
       "</table>\n",
       "</div>"
      ],
      "text/plain": [
       "   color  size  price  classlabel\n",
       "0  green     1   10.1           0\n",
       "1    red     2   13.5           1\n",
       "2   blue     3   15.3           0"
      ]
     },
     "execution_count": 9,
     "metadata": {},
     "output_type": "execute_result"
    }
   ],
   "source": [
    "import numpy as np\n",
    "class_maping = {label:idx for idx, label in \n",
    "                enumerate(np.unique(df['classlabel']))}\n",
    "class_maping\n",
    "\n",
    "df['classlabel'] = df['classlabel'].map(class_maping) #用對應字典將類別標籤換成整數\n",
    "df"
   ]
  },
  {
   "cell_type": "code",
   "execution_count": 10,
   "id": "95a4390b",
   "metadata": {},
   "outputs": [
    {
     "data": {
      "text/plain": [
       "array([0, 1, 0], dtype=int64)"
      ]
     },
     "execution_count": 10,
     "metadata": {},
     "output_type": "execute_result"
    }
   ],
   "source": [
    "from sklearn.preprocessing import LabelEncoder #可直接完成上一段的工作\n",
    "class_le = LabelEncoder()\n",
    "y = class_le.fit_transform(df['classlabel'].values)\n",
    "y"
   ]
  },
  {
   "cell_type": "code",
   "execution_count": 11,
   "id": "635d53b8",
   "metadata": {},
   "outputs": [
    {
     "data": {
      "text/plain": [
       "array([[1, 1, 10.1],\n",
       "       [2, 2, 13.5],\n",
       "       [0, 3, 15.3]], dtype=object)"
      ]
     },
     "execution_count": 11,
     "metadata": {},
     "output_type": "execute_result"
    }
   ],
   "source": [
    "x = df [['color', 'size', 'price']].values #把顏色轉為編碼\n",
    "color_le = LabelEncoder()\n",
    "x[:, 0] = color_le.fit_transform(x[:, 0]) #這邊:應該是從頭到尾，阿第0個column\n",
    "x #blue->0, green->1, red->2 這樣結果不會很好，因為顏色本身沒有大小之分"
   ]
  },
  {
   "cell_type": "code",
   "execution_count": 14,
   "id": "9caab45f",
   "metadata": {},
   "outputs": [
    {
     "data": {
      "text/html": [
       "<div>\n",
       "<style scoped>\n",
       "    .dataframe tbody tr th:only-of-type {\n",
       "        vertical-align: middle;\n",
       "    }\n",
       "\n",
       "    .dataframe tbody tr th {\n",
       "        vertical-align: top;\n",
       "    }\n",
       "\n",
       "    .dataframe thead th {\n",
       "        text-align: right;\n",
       "    }\n",
       "</style>\n",
       "<table border=\"1\" class=\"dataframe\">\n",
       "  <thead>\n",
       "    <tr style=\"text-align: right;\">\n",
       "      <th></th>\n",
       "      <th>price</th>\n",
       "      <th>size</th>\n",
       "      <th>color_blue</th>\n",
       "      <th>color_green</th>\n",
       "      <th>color_red</th>\n",
       "    </tr>\n",
       "  </thead>\n",
       "  <tbody>\n",
       "    <tr>\n",
       "      <th>0</th>\n",
       "      <td>10.1</td>\n",
       "      <td>1</td>\n",
       "      <td>0</td>\n",
       "      <td>1</td>\n",
       "      <td>0</td>\n",
       "    </tr>\n",
       "    <tr>\n",
       "      <th>1</th>\n",
       "      <td>13.5</td>\n",
       "      <td>2</td>\n",
       "      <td>0</td>\n",
       "      <td>0</td>\n",
       "      <td>1</td>\n",
       "    </tr>\n",
       "    <tr>\n",
       "      <th>2</th>\n",
       "      <td>15.3</td>\n",
       "      <td>3</td>\n",
       "      <td>1</td>\n",
       "      <td>0</td>\n",
       "      <td>0</td>\n",
       "    </tr>\n",
       "  </tbody>\n",
       "</table>\n",
       "</div>"
      ],
      "text/plain": [
       "   price  size  color_blue  color_green  color_red\n",
       "0   10.1     1           0            1          0\n",
       "1   13.5     2           0            0          1\n",
       "2   15.3     3           1            0          0"
      ]
     },
     "execution_count": 14,
     "metadata": {},
     "output_type": "execute_result"
    }
   ],
   "source": [
    "#改用sklearn.preprocessing中的OneHotEncoder(獨熱編碼\n",
    "from sklearn.preprocessing import OneHotEncoder\n",
    "from sklearn.compose import ColumnTransformer\n",
    "#categorical_features用來定義希望轉換之變數的行位置\n",
    "ohe = OneHotEncoder(categories='auto')#ohe = OneHotEncoder(categorical_features=[0])改掉了\n",
    "ohe.fit_transform(x).toarray() #將預設回傳的稀疏矩陣轉為Numpy陣列\n",
    "\n",
    "#使用pandas套件get_dummies應用在DataFrame，就只有字串數據被轉換\n",
    "pd.get_dummies(df[['price','color','size']])"
   ]
  },
  {
   "cell_type": "code",
   "execution_count": 15,
   "id": "628e6bb9",
   "metadata": {},
   "outputs": [
    {
     "name": "stdout",
     "output_type": "stream",
     "text": [
      "Class labels [1 2 3]\n"
     ]
    }
   ],
   "source": [
    "#降低數據集的維數\n",
    "#利用pandas函式庫讀取178個葡萄酒樣本(3種類別/13個特徵值)\n",
    "df_wine = pd.read_csv('https://archive.ics.uci.edu/ml/machine-learning-databases/wine/wine.data', header=None)\n",
    "df_wine.columns = ['Class label','Alcohole','Malic acid', 'Ash', 'Alcalinity of ash', 'Magnesium',\n",
    "                   'Total phenoles', 'Flavanoids', 'Nonflavanoid phenoles', 'Proanthocyanins', 'Color intensity',\n",
    "\t\t\t\t   'Hue', 'OD280/OD315 of diluted wines', 'Proline'] #記得連網路!!\n",
    "print('Class labels', np.unique(df_wine['Class label']))\n",
    "df_wine.head()\n",
    "from sklearn.model_selection import train_test_split\n",
    "\n",
    "#iloc是pandas提取數據方法，前面提取所有Row，x從第1項到最後項(共13個column的特徵)，後面則是提取所有Row的類別標籤存到y(所有樣本的第0項)\n",
    "x, y = df_wine.iloc[:, 1:].values, df_wine.iloc[:, 0].values \n",
    "x_train,x_test,y_train,y_test = train_test_split(x, y,test_size=0.3, random_state=0)\n",
    "\n",
    "#特徵縮放為預處理的關鍵(Feature Scaling)(隨機森林、決策樹除外)，正規化又分normalization[0,1]、standardization\n",
    "from sklearn.preprocessing import MinMaxScaler\n",
    "mms = MinMaxScaler() #最小-最大\n",
    "x_train_norm = mms.fit_transform(x_train)\n",
    "x_test_norm = mms.fit_transform(x_test)\n"
   ]
  },
  {
   "cell_type": "code",
   "execution_count": 18,
   "id": "4c6f2771",
   "metadata": {},
   "outputs": [
    {
     "name": "stdout",
     "output_type": "stream",
     "text": [
      "Training accuracy :  0.9919354838709677\n",
      "Test accuracy :  1.0\n"
     ]
    },
    {
     "data": {
      "text/plain": [
       "array([-1.45823706, -1.37682068, -2.06936419])"
      ]
     },
     "execution_count": 18,
     "metadata": {},
     "output_type": "execute_result"
    }
   ],
   "source": [
    "#使用standardization可讓離群值不那敏感(Logistic、SVM會用)(計算出平均值、標準差)\n",
    "from sklearn.preprocessing import StandardScaler\n",
    "stdsc = StandardScaler()\n",
    "x_train_std = stdsc.fit_transform(x_train)#我們會對訓練集做StandardScaler\n",
    "x_test_std = stdsc.fit_transform(x_test)#也會對測試集、[不曾見過的數據]做StandardScaler\n",
    "\n",
    "#高度適合，是產生了過度複雜的模型，導致訓練集表現很好，測試集卻很差，所以需要選取有意義的特徵\n",
    "#方法有:1.蒐集更多訓練集2.經由[正規化]對過於複雜模型做成罰3.以較少參數做出較簡單的模型4.減少數據維度\n",
    "\n",
    "#L1正規化:產生稀疏的特徵向量，大多數特徵值w會=0，表示如果數據集維度很高，又有許多不相關的特徵，則可達到降維效果\n",
    "\n",
    "#我想法，先看L2收縮:\n",
    "#可以參考重寫後的[邏輯斯回歸的正規化成本函數](就是加上正規項而已)，\n",
    "#只要調整C就可以改變J的大小(看圖得知C越小w被正規化的越小，這邊觀念很重要)，而最後項有一個被加上的正規項，若w越大所加上的懲罰越大，\n",
    "#借以達到讓整體權重變小的目的，有點像是今天w1=3,w2=2可以很完美的區分測試集，使J=1好了，那我想讓w1和w2更小，\n",
    "#我調整C讓C很小，使得J=0.5(比1還小)，這樣就達到w1和w2變小的目的了，因為只要w1或w2其中一個太大就會有懲罰，導致J很大，\n",
    "#有點像把一個目標函數J要小分成兩個目標(很像PSO鳥群，同時要沿牆近+又要走的距離遠)，現在狀況則是[要同時高度適合+又要w1和w2都很小]，\n",
    "#因為很難同時達到兩個需求，所以會被折中掉的感覺，借而達到解決高度適合化的問題，然而實際上卻不是兩個目標，\n",
    "#所以會以新的cost function進行梯度下降找到最小的J值，回頭直觀一點看，C越小達到J小、w1和w2也越小。\n",
    "\n",
    "from sklearn.linear_model import LogisticRegression\n",
    "LogisticRegression(penalty='l1') #簡單設定penality為l1，就可以產生稀疏\n",
    "#透過L1正規化的邏輯斯回歸，於標準化後的葡萄酒數據集將產生以下稀疏解\n",
    "lr = LogisticRegression(C=1, penalty='l1', solver='liblinear')\n",
    "lr.fit(x_train_std,y_train)\n",
    "print('Training accuracy : ', lr.score(x_train_std,y_train))\n",
    "print('Test accuracy : ', lr.score(x_test_std, y_test)) #準確度都很高，表示無高度適合現象\n",
    "lr.intercept_ #看截距項w0\n",
    "\n"
   ]
  },
  {
   "cell_type": "code",
   "execution_count": 19,
   "id": "c29e63d1",
   "metadata": {},
   "outputs": [
    {
     "data": {
      "text/plain": [
       "array([[ 1.28190259,  0.21335694,  0.66245245, -1.24956704,  0.        ,\n",
       "         0.        ,  0.93697705,  0.        ,  0.        ,  0.        ,\n",
       "         0.        ,  0.97707004,  2.05981774],\n",
       "       [-0.93631707, -0.5832632 , -0.93524262,  0.46565851,  0.        ,\n",
       "         0.        ,  0.        ,  0.03955194,  0.49313542, -2.45275791,\n",
       "         1.0176442 ,  0.        , -2.1776659 ],\n",
       "       [ 0.        ,  0.20769742,  0.35322466,  0.        ,  0.        ,\n",
       "         0.        , -2.10004034,  0.        ,  0.        ,  1.9943946 ,\n",
       "        -0.65670046, -0.89898436,  0.        ]])"
      ]
     },
     "execution_count": 19,
     "metadata": {},
     "output_type": "execute_result"
    }
   ],
   "source": [
    "lr.coef_ #w1~wj係數屬性查看"
   ]
  },
  {
   "cell_type": "code",
   "execution_count": 25,
   "id": "c95350f6",
   "metadata": {},
   "outputs": [
    {
     "data": {
      "text/plain": [
       "array([[-4.22955774e-03, -1.87036630e-03, -2.15146551e-03,\n",
       "         1.20433161e-03, -1.16252770e-03, -5.08276404e-04,\n",
       "         9.56279976e-05, -8.12841916e-05,  5.38569830e-04,\n",
       "        -4.26295800e-03,  2.13065718e-03,  1.34773684e-03,\n",
       "        -3.40197490e-03],\n",
       "       [-3.83412867e-02, -1.70666925e-02, -1.96153097e-02,\n",
       "         1.11201651e-02, -1.01580788e-02, -4.29210007e-03,\n",
       "         1.17306272e-03, -7.98728442e-04,  5.47255855e-03,\n",
       "        -3.86030788e-02,  1.94006967e-02,  1.23227011e-02,\n",
       "        -3.10280576e-02],\n",
       "       [-2.00578574e-01, -9.04493195e-02, -1.08386269e-01,\n",
       "         6.82750687e-02, -4.17572359e-02, -1.69870208e-02,\n",
       "         1.20481456e-02, -7.12444995e-04,  4.52576970e-02,\n",
       "        -1.99532699e-01,  1.02746781e-01,  6.25491300e-02,\n",
       "        -1.72026615e-01],\n",
       "       [-4.68390234e-01, -2.42430203e-01, -3.21227137e-01,\n",
       "         2.33730986e-01, -6.65887434e-02, -2.62066637e-02,\n",
       "         6.13668907e-02,  3.08235167e-02,  1.64475096e-01,\n",
       "        -4.93788174e-01,  2.81359622e-01,  1.19474784e-01,\n",
       "        -4.81635715e-01],\n",
       "       [-7.77432504e-01, -4.59689344e-01, -7.44587484e-01,\n",
       "         5.32339775e-01, -6.85408892e-02, -3.07050537e-02,\n",
       "         2.15760303e-01,  1.49181205e-01,  3.25331390e-01,\n",
       "        -1.03156468e+00,  5.81801289e-01,  1.34321365e-01,\n",
       "        -1.01012567e+00],\n",
       "       [-1.25403958e+00, -7.57545667e-01, -1.41515718e+00,\n",
       "         9.87896902e-01,  7.46938079e-03, -3.59227600e-02,\n",
       "         5.38122181e-01,  4.54602937e-01,  4.90030243e-01,\n",
       "        -1.95171468e+00,  1.07255249e+00,  2.78543775e-01,\n",
       "        -1.86634326e+00],\n",
       "       [-1.90036498e+00, -1.17113492e+00, -2.27401687e+00,\n",
       "         1.56530906e+00,  8.86929677e-02, -2.25780257e-02,\n",
       "         9.68323079e-01,  9.04158955e-01,  7.31899252e-01,\n",
       "        -3.02576269e+00,  1.72377075e+00,  5.64033329e-01,\n",
       "        -3.03480992e+00],\n",
       "       [-2.60365900e+00, -1.66572041e+00, -3.23100832e+00,\n",
       "         2.20516322e+00,  1.70217546e-01,  7.88082608e-03,\n",
       "         1.45894225e+00,  1.40270342e+00,  1.03282191e+00,\n",
       "        -4.15942254e+00,  2.45616041e+00,  8.95856989e-01,\n",
       "        -4.42683296e+00],\n",
       "       [-3.31886549e+00, -2.15387809e+00, -4.21783192e+00,\n",
       "         2.96985801e+00,  3.11888260e-01, -1.36385605e-02,\n",
       "         1.97464106e+00,  2.14430007e+00,  1.35250607e+00,\n",
       "        -5.98013184e+00,  3.13617198e+00,  7.42835485e-01,\n",
       "        -6.29571240e+00],\n",
       "       [-3.86403664e+00, -2.79130845e+00, -5.29821588e+00,\n",
       "         4.14091010e+00,  4.54982720e-01, -7.92658132e-01,\n",
       "         2.16971914e+00,  2.55243070e+00,  1.70277772e+00,\n",
       "        -8.22706550e+00,  4.04282313e+00,  2.62345383e-01,\n",
       "        -7.82518621e+00]])"
      ]
     },
     "execution_count": 25,
     "metadata": {},
     "output_type": "execute_result"
    }
   ],
   "source": [
    "import matplotlib.pyplot as plt\n",
    "fig = plt.figure\n",
    "#ax = plt.subplot(111)\n",
    "colors = ['blue', 'green', 'red', 'cyan', 'magenta', 'yellow', 'black',\n",
    "          'pink','lightgreen', 'lightblue', 'gray', 'indigo', 'orange' ]\n",
    "weights,params = [],[]\n",
    "for c in np.arange(-4,6, dtype=float):\n",
    "    lr = LogisticRegression(penalty='l1', C=10**c, random_state=0)\n",
    "    lr = LogisticRegression(C=10**c, random_state = 0)\n",
    "    lr.fit(x_train_std, y_train)\n",
    "    weights.append(lr.coef_[1])\n",
    "    params.append(10**c)\n",
    "weights = np.array(weights)\n",
    "weights"
   ]
  },
  {
   "cell_type": "code",
   "execution_count": 26,
   "id": "cfca1bfd",
   "metadata": {},
   "outputs": [
    {
     "data": {
      "image/png": "[encoded data removed]",
      "text/plain": [
       "<Figure size 432x288 with 1 Axes>"
      ]
     },
     "metadata": {
      "needs_background": "light"
     },
     "output_type": "display_data"
    }
   ],
   "source": [
    "for column, color in zip(range(weights.shape[1]), colors): #查看weights的個數維度(13個)，並和顏色結合\n",
    "    plt.plot(params, weights[:, column], label=df_wine.columns[column+1],color=color)\n",
    "\n",
    "plt.axhline(0, color='black', linestyle='--', linewidth=3)\n",
    "plt.xlim([10**(-5), 10**5])\n",
    "plt.ylabel('weight coefficent')\n",
    "plt.xlabel('C')\n",
    "plt.xscale('log')\n",
    "plt.legend(loc='upper left')\n",
    "plt.legend(loc='upper center',bbox_to_anchor=(1.38,1.03),ncol=1, fancybox=True)\n",
    "plt.show()"
   ]
  }
 ],
 "metadata": {
  "kernelspec": {
   "display_name": "Python 3 (ipykernel)",
   "language": "python",
   "name": "python3"
  },
  "language_info": {
   "codemirror_mode": {
    "name": "ipython",
    "version": 3
   },
   "file_extension": ".py",
   "mimetype": "text/x-python",
   "name": "python",
   "nbconvert_exporter": "python",
   "pygments_lexer": "ipython3",
   "version": "3.8.12"
  }
 },
 "nbformat": 4,
 "nbformat_minor": 5
}
